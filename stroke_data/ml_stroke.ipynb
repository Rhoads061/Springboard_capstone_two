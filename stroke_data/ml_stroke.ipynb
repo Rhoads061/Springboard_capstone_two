{
 "cells": [
  {
   "cell_type": "code",
   "execution_count": 2,
   "metadata": {},
   "outputs": [],
   "source": [
    "import pickle\n",
    "import pandas as pd\n",
    "import numpy as np\n",
    "import matplotlib.pyplot as plt\n",
    "import seaborn as sns \n",
    "from sklearn.linear_model import LogisticRegression, SGDClassifier\n",
    "from sklearn.metrics import accuracy_score, confusion_matrix\n",
    "from sklearn.model_selection import train_test_split,GridSearchCV, validation_curve \n",
    "from sklearn.ensemble import RandomForestClassifier, GradientBoostingClassifier\n",
    "from sklearn.kernel_approximation import RBFSampler\n",
    "from pprint import pprint\n"
   ]
  },
  {
   "cell_type": "code",
   "execution_count": 3,
   "metadata": {
    "scrolled": true
   },
   "outputs": [
    {
     "data": {
      "text/html": [
       "<div>\n",
       "<style scoped>\n",
       "    .dataframe tbody tr th:only-of-type {\n",
       "        vertical-align: middle;\n",
       "    }\n",
       "\n",
       "    .dataframe tbody tr th {\n",
       "        vertical-align: top;\n",
       "    }\n",
       "\n",
       "    .dataframe thead th {\n",
       "        text-align: right;\n",
       "    }\n",
       "</style>\n",
       "<table border=\"1\" class=\"dataframe\">\n",
       "  <thead>\n",
       "    <tr style=\"text-align: right;\">\n",
       "      <th></th>\n",
       "      <th>male</th>\n",
       "      <th>age</th>\n",
       "      <th>hypertension</th>\n",
       "      <th>heart_disease</th>\n",
       "      <th>ever_married</th>\n",
       "      <th>work_type</th>\n",
       "      <th>urban_resident</th>\n",
       "      <th>avg_glucose_level</th>\n",
       "      <th>bmi</th>\n",
       "      <th>has_smoked</th>\n",
       "      <th>stroke</th>\n",
       "      <th>bmi_class</th>\n",
       "      <th>glucose_class</th>\n",
       "      <th>risk_factor</th>\n",
       "    </tr>\n",
       "    <tr>\n",
       "      <th>id</th>\n",
       "      <th></th>\n",
       "      <th></th>\n",
       "      <th></th>\n",
       "      <th></th>\n",
       "      <th></th>\n",
       "      <th></th>\n",
       "      <th></th>\n",
       "      <th></th>\n",
       "      <th></th>\n",
       "      <th></th>\n",
       "      <th></th>\n",
       "      <th></th>\n",
       "      <th></th>\n",
       "      <th></th>\n",
       "    </tr>\n",
       "  </thead>\n",
       "  <tbody>\n",
       "    <tr>\n",
       "      <th>30468</th>\n",
       "      <td>1</td>\n",
       "      <td>58.0</td>\n",
       "      <td>1</td>\n",
       "      <td>0</td>\n",
       "      <td>1</td>\n",
       "      <td>Private</td>\n",
       "      <td>1</td>\n",
       "      <td>87.96</td>\n",
       "      <td>39.2</td>\n",
       "      <td>0</td>\n",
       "      <td>0</td>\n",
       "      <td>Obese</td>\n",
       "      <td>41st-60th</td>\n",
       "      <td>One</td>\n",
       "    </tr>\n",
       "    <tr>\n",
       "      <th>56543</th>\n",
       "      <td>0</td>\n",
       "      <td>70.0</td>\n",
       "      <td>0</td>\n",
       "      <td>0</td>\n",
       "      <td>1</td>\n",
       "      <td>Private</td>\n",
       "      <td>0</td>\n",
       "      <td>69.04</td>\n",
       "      <td>35.9</td>\n",
       "      <td>0</td>\n",
       "      <td>0</td>\n",
       "      <td>Obese</td>\n",
       "      <td>0-20th</td>\n",
       "      <td>Neither</td>\n",
       "    </tr>\n",
       "    <tr>\n",
       "      <th>52800</th>\n",
       "      <td>0</td>\n",
       "      <td>52.0</td>\n",
       "      <td>0</td>\n",
       "      <td>0</td>\n",
       "      <td>1</td>\n",
       "      <td>Private</td>\n",
       "      <td>1</td>\n",
       "      <td>77.59</td>\n",
       "      <td>17.7</td>\n",
       "      <td>0</td>\n",
       "      <td>0</td>\n",
       "      <td>Underweight</td>\n",
       "      <td>21st-40th</td>\n",
       "      <td>Neither</td>\n",
       "    </tr>\n",
       "    <tr>\n",
       "      <th>41413</th>\n",
       "      <td>0</td>\n",
       "      <td>75.0</td>\n",
       "      <td>0</td>\n",
       "      <td>1</td>\n",
       "      <td>1</td>\n",
       "      <td>Self-employed</td>\n",
       "      <td>0</td>\n",
       "      <td>243.53</td>\n",
       "      <td>27.0</td>\n",
       "      <td>0</td>\n",
       "      <td>0</td>\n",
       "      <td>Overweight</td>\n",
       "      <td>81st-100th</td>\n",
       "      <td>One</td>\n",
       "    </tr>\n",
       "    <tr>\n",
       "      <th>15266</th>\n",
       "      <td>0</td>\n",
       "      <td>32.0</td>\n",
       "      <td>0</td>\n",
       "      <td>0</td>\n",
       "      <td>1</td>\n",
       "      <td>Private</td>\n",
       "      <td>0</td>\n",
       "      <td>77.67</td>\n",
       "      <td>32.3</td>\n",
       "      <td>1</td>\n",
       "      <td>0</td>\n",
       "      <td>Obese</td>\n",
       "      <td>21st-40th</td>\n",
       "      <td>Neither</td>\n",
       "    </tr>\n",
       "  </tbody>\n",
       "</table>\n",
       "</div>"
      ],
      "text/plain": [
       "       male   age  hypertension  heart_disease  ever_married      work_type  \\\n",
       "id                                                                            \n",
       "30468     1  58.0             1              0             1        Private   \n",
       "56543     0  70.0             0              0             1        Private   \n",
       "52800     0  52.0             0              0             1        Private   \n",
       "41413     0  75.0             0              1             1  Self-employed   \n",
       "15266     0  32.0             0              0             1        Private   \n",
       "\n",
       "       urban_resident  avg_glucose_level   bmi  has_smoked  stroke  \\\n",
       "id                                                                   \n",
       "30468               1              87.96  39.2           0       0   \n",
       "56543               0              69.04  35.9           0       0   \n",
       "52800               1              77.59  17.7           0       0   \n",
       "41413               0             243.53  27.0           0       0   \n",
       "15266               0              77.67  32.3           1       0   \n",
       "\n",
       "         bmi_class glucose_class risk_factor  \n",
       "id                                            \n",
       "30468        Obese     41st-60th         One  \n",
       "56543        Obese        0-20th     Neither  \n",
       "52800  Underweight     21st-40th     Neither  \n",
       "41413   Overweight    81st-100th         One  \n",
       "15266        Obese     21st-40th     Neither  "
      ]
     },
     "execution_count": 3,
     "metadata": {},
     "output_type": "execute_result"
    }
   ],
   "source": [
    "#read in and check data\n",
    "df=pd.read_pickle('working_data.pkl')\n",
    "df.head()\n"
   ]
  },
  {
   "cell_type": "code",
   "execution_count": 4,
   "metadata": {},
   "outputs": [],
   "source": [
    "#create feature array X\n",
    "X=df.loc[:,'male':'has_smoked']\n",
    "X=X.drop(['work_type'], axis =1)\n",
    "\n",
    "X=np.array(X.values)\n",
    "#create target array y\n",
    "y=np.array(df.stroke.values)\n",
    "#y=y.reshape(-1,1)\n",
    "Xtrain, Xtest, ytrain, ytest = train_test_split(X,y, random_state=5)"
   ]
  },
  {
   "cell_type": "code",
   "execution_count": 92,
   "metadata": {},
   "outputs": [
    {
     "name": "stdout",
     "output_type": "stream",
     "text": [
      "Accuracy 0.978408754806\n",
      "Confusion Matix [[6616  146]\n",
      " [   0    0]]\n"
     ]
    }
   ],
   "source": [
    "#run basic logistic regression model\n",
    "lr= LogisticRegression(solver='lbfgs', max_iter=1000)\n",
    "lr.fit(Xtrain,ytrain)\n",
    "print('Accuracy {}'.format(accuracy_score(lr.predict(Xtest), ytest)))\n",
    "print('Confusion Matix {}'.format(confusion_matrix(lr.predict(Xtest), ytest)))"
   ]
  },
  {
   "cell_type": "code",
   "execution_count": 93,
   "metadata": {},
   "outputs": [
    {
     "name": "stdout",
     "output_type": "stream",
     "text": [
      "Tuned Logistic Regression Parameters: {'C': 0.001, 'max_iter': 1000}\n",
      "0.9784087548062703\n",
      "Best score is: 0.980180446679\n",
      "[[6616  146]\n",
      " [   0    0]]\n"
     ]
    }
   ],
   "source": [
    "#Tune logstic regression model us GridSearch\n",
    "cs = [0.001, 0.1, 1, 10, 100]\n",
    "maxiter= [1000,2000,3000]\n",
    "C= {'C':cs, 'max_iter':maxiter}\n",
    "lr= LogisticRegression(solver='lbfgs')\n",
    "gs= GridSearchCV(lr, C, cv=5)\n",
    "gs=gs.fit(Xtrain, ytrain)\n",
    "print(\"Tuned Logistic Regression Parameters: {}\".format(gs.best_params_)) \n",
    "print(accuracy_score(gs.predict(Xtest), ytest))\n",
    "print(\"Best score is: {}\".format(gs.best_score_))\n",
    "print(confusion_matrix(gs.predict(Xtest), ytest))\n",
    "\n"
   ]
  },
  {
   "cell_type": "code",
   "execution_count": 94,
   "metadata": {
    "scrolled": true
   },
   "outputs": [
    {
     "name": "stdout",
     "output_type": "stream",
     "text": [
      "Accuracy 0.978260869565\n",
      "Confusion Matrix [[6615  146]\n",
      " [   1    0]]\n"
     ]
    }
   ],
   "source": [
    "#create random forrest classifier\n",
    "rfc=RandomForestClassifier(random_state=10, n_estimators=100)\n",
    "rfc.fit(Xtrain,ytrain)\n",
    "print('Accuracy {}'.format(accuracy_score(rfc.predict(Xtest), ytest)))\n",
    "print('Confusion Matrix {}'.format(confusion_matrix(rfc.predict(Xtest), ytest)))"
   ]
  },
  {
   "cell_type": "code",
   "execution_count": 95,
   "metadata": {},
   "outputs": [
    {
     "name": "stdout",
     "output_type": "stream",
     "text": [
      "{'bootstrap': True,\n",
      " 'class_weight': None,\n",
      " 'criterion': 'gini',\n",
      " 'max_depth': None,\n",
      " 'max_features': 'auto',\n",
      " 'max_leaf_nodes': None,\n",
      " 'min_impurity_decrease': 0.0,\n",
      " 'min_impurity_split': None,\n",
      " 'min_samples_leaf': 1,\n",
      " 'min_samples_split': 2,\n",
      " 'min_weight_fraction_leaf': 0.0,\n",
      " 'n_estimators': 100,\n",
      " 'n_jobs': None,\n",
      " 'oob_score': False,\n",
      " 'random_state': 10,\n",
      " 'verbose': 0,\n",
      " 'warm_start': False}\n"
     ]
    }
   ],
   "source": [
    "#examine params\n",
    "pprint(rfc.get_params())"
   ]
  },
  {
   "cell_type": "code",
   "execution_count": 96,
   "metadata": {},
   "outputs": [
    {
     "name": "stdout",
     "output_type": "stream",
     "text": [
      "begin\n",
      "done nest\n",
      "done ss\n",
      "done sl\n",
      "done\n"
     ]
    }
   ],
   "source": [
    "#create lists to tune parameters\n",
    "n_estimators= [10, 100,1000, 2000]\n",
    "max_depth=[None, 50, 100, 200]\n",
    "\n",
    "#max_features=['auto', 'sqrt']\n",
    "min_samples_leaf=[ 2, 4, 6]\n",
    "#bootstrap=[True, False]\n",
    "min_samples_split=[10, 20,50, 100]\n",
    "#pars={'n_estimators':n_estimators,\n",
    "#      'max_depth':max_depth,\n",
    "#      'min_samples_leaf':min_samples_leaf,\n",
    "#      'min_samples_split':min_samples_split}\n",
    "\n",
    "rfc=RandomForestClassifier(random_state=10)\n",
    "#use validation curves to tune parameters\n",
    "print('begin')\n",
    "train_nest, test_nest=validation_curve(rfc, X, y, param_name='n_estimators', \n",
    "                                   param_range=n_estimators, scoring='accuracy', cv=5 )\n",
    "print('done nest')\n",
    "train_ss, test_ss=validation_curve(rfc, X, y, param_name='min_samples_split', \n",
    "                                   param_range=min_samples_split, scoring='accuracy', cv=5 )\n",
    "print('done ss')\n",
    "train_sl, test_sl=validation_curve(rfc, X, y, param_name='min_samples_leaf', \n",
    "                                   param_range=min_samples_leaf, scoring='accuracy', cv=5 )\n",
    "print('done sl')\n",
    "#train_maxd, test_maxd=validation_curve(rfc, Xtrain, ytrain, param_name='max_depth', \n",
    "                                   #param_range=max_depth, scoring='accuracy', cv=5 )\n",
    "print('done')\n",
    "\n"
   ]
  },
  {
   "cell_type": "code",
   "execution_count": 97,
   "metadata": {},
   "outputs": [],
   "source": [
    "#take the means of the results from each parameter\n",
    "train_nest_mean=np.mean(train_nest, axis=1)\n",
    "train_ss_mean=np.mean(train_ss, axis=1)\n",
    "train_sl_mean=np.mean(train_sl, axis=1)\n",
    "#train_maxd_mean=np.mean(train_maxd, axis=1)\n",
    "\n",
    "test_nest_mean=np.mean(test_nest, axis=1)\n",
    "test_ss_mean=np.mean(test_ss, axis=1)\n",
    "test_sl_mean=np.mean(test_sl, axis=1)\n",
    "#test_maxd_mean=np.mean(test_maxd, axis=1)\n"
   ]
  },
  {
   "cell_type": "code",
   "execution_count": 98,
   "metadata": {},
   "outputs": [
    {
     "data": {
      "image/png": "[encoded data removed]",
      "text/plain": [
       "<Figure size 432x288 with 1 Axes>"
      ]
     },
     "metadata": {
      "needs_background": "light"
     },
     "output_type": "display_data"
    }
   ],
   "source": [
    "#plot validation curve for number of trees\n",
    "plt.plot(n_estimators,test_nest_mean)\n",
    "plt.xticks(n_estimators)\n",
    "plt.xscale('log')"
   ]
  },
  {
   "cell_type": "code",
   "execution_count": 99,
   "metadata": {},
   "outputs": [
    {
     "data": {
      "text/plain": [
       "([<matplotlib.axis.XTick at 0x1a187e1490>,\n",
       "  <matplotlib.axis.XTick at 0x1a187af090>,\n",
       "  <matplotlib.axis.XTick at 0x1a187dc310>,\n",
       "  <matplotlib.axis.XTick at 0x1a17e72050>],\n",
       " <a list of 4 Text xticklabel objects>)"
      ]
     },
     "execution_count": 99,
     "metadata": {},
     "output_type": "execute_result"
    },
    {
     "data": {
      "image/png": "[encoded data removed]",
      "text/plain": [
       "<Figure size 432x288 with 1 Axes>"
      ]
     },
     "metadata": {
      "needs_background": "light"
     },
     "output_type": "display_data"
    }
   ],
   "source": [
    "#plot validation curve for smaple split\n",
    "plt.plot(min_samples_split,test_ss_mean)\n",
    "plt.xticks(min_samples_split)"
   ]
  },
  {
   "cell_type": "code",
   "execution_count": 100,
   "metadata": {},
   "outputs": [
    {
     "data": {
      "text/plain": [
       "([<matplotlib.axis.XTick at 0x1a1735d6d0>,\n",
       "  <matplotlib.axis.XTick at 0x1a1735d190>,\n",
       "  <matplotlib.axis.XTick at 0x1a1734e2d0>],\n",
       " <a list of 3 Text xticklabel objects>)"
      ]
     },
     "execution_count": 100,
     "metadata": {},
     "output_type": "execute_result"
    },
    {
     "data": {
      "image/png": "[encoded data removed]",
      "text/plain": [
       "<Figure size 432x288 with 1 Axes>"
      ]
     },
     "metadata": {
      "needs_background": "light"
     },
     "output_type": "display_data"
    }
   ],
   "source": [
    "#plot validation curve for sample leaf\n",
    "plt.plot(min_samples_leaf,test_sl_mean)\n",
    "plt.xticks(min_samples_leaf)"
   ]
  },
  {
   "cell_type": "code",
   "execution_count": 101,
   "metadata": {},
   "outputs": [],
   "source": [
    "#max_depthG=max_depth\n",
    "#max_depthG[0]=0\n",
    "#max_depthG\n",
    "#plt.plot(max_depthG,test_maxd_mean)\n",
    "#plt.xticks(max_depthG)"
   ]
  },
  {
   "cell_type": "code",
   "execution_count": 102,
   "metadata": {},
   "outputs": [
    {
     "name": "stdout",
     "output_type": "stream",
     "text": [
      "Accuracy 0.978408754806\n",
      "Confusion Matrix [[6616  146]\n",
      " [   0    0]]\n"
     ]
    }
   ],
   "source": [
    "#run random forrest model with tuned parameters\n",
    "rfc=RandomForestClassifier(random_state=10, n_estimators=100,min_samples_split=20,min_samples_leaf=4)\n",
    "rfc.fit(Xtrain,ytrain)\n",
    "print('Accuracy {}'.format(accuracy_score(rfc.predict(Xtest), ytest)))\n",
    "print('Confusion Matrix {}'.format(confusion_matrix(rfc.predict(Xtest), ytest)))"
   ]
  },
  {
   "cell_type": "code",
   "execution_count": 103,
   "metadata": {},
   "outputs": [
    {
     "name": "stdout",
     "output_type": "stream",
     "text": [
      "Accuracy 0.977077787637\n",
      "Confusion Matrix [[6607  146]\n",
      " [   9    0]]\n"
     ]
    }
   ],
   "source": [
    "#run untuned Gradient boosted classifier\n",
    "gbc= GradientBoostingClassifier(random_state=10)\n",
    "gbc.fit(Xtrain,ytrain)\n",
    "print('Accuracy {}'.format(accuracy_score(gbc.predict(Xtest), ytest)))\n",
    "print('Confusion Matrix {}'.format(confusion_matrix(gbc.predict(Xtest), ytest)))"
   ]
  },
  {
   "cell_type": "code",
   "execution_count": 104,
   "metadata": {},
   "outputs": [
    {
     "name": "stdout",
     "output_type": "stream",
     "text": [
      "begin\n",
      "done nest\n",
      "done ss\n",
      "done sl\n",
      "done\n"
     ]
    }
   ],
   "source": [
    "#tune gbc with validation curves\n",
    "n_estimators= [5, 10, 50]\n",
    "learning_rate= [.05,.1,.25]\n",
    "min_samples_split=[ 100, 200, 500, 1000]\n",
    "min_samples_leaf=[  10, 20, 30]\n",
    "gbc= GradientBoostingClassifier(random_state=10)\n",
    "print('begin')\n",
    "gbctrain_nest, gbctest_nest=validation_curve(gbc, X, y, param_name='n_estimators', \n",
    "                                   param_range=n_estimators, scoring='accuracy', cv=5 )\n",
    "print('done nest')\n",
    "gbctrain_ss, gbctest_ss=validation_curve(gbc, X, y, param_name='min_samples_split', \n",
    "                                   param_range=min_samples_split, scoring='accuracy', cv=5 )\n",
    "print('done ss')\n",
    "gbctrain_sl, gbctest_sl=validation_curve(gbc, X, y, param_name='min_samples_leaf', \n",
    "                                   param_range=min_samples_leaf, scoring='accuracy', cv=5 )\n",
    "print('done sl')\n",
    "gbctrain_lr, gbctest_lr=validation_curve(gbc, X, y, param_name='learning_rate', \n",
    "                                   param_range=learning_rate, scoring='accuracy', cv=5 )\n",
    "print('done lr')\n",
    "print('done')\n"
   ]
  },
  {
   "cell_type": "code",
   "execution_count": 105,
   "metadata": {},
   "outputs": [],
   "source": [
    "#find the means for the different scores with each parameter\n",
    "gbctrain_nest_mean=np.mean(gbctrain_nest, axis=1)\n",
    "gbctrain_ss_mean=np.mean(gbctrain_ss, axis=1)\n",
    "gbctrain_sl_mean=np.mean(gbctrain_sl, axis=1)\n",
    "gbctrain_lr_mean=np.mean(gbctrain_lr, axis=1)\n",
    "\n",
    "gbctest_nest_mean=np.mean(gbctest_nest, axis=1)\n",
    "gbctest_ss_mean=np.mean(gbctest_ss, axis=1)\n",
    "gbctest_sl_mean=np.mean(gbctest_sl, axis=1)\n",
    "gbctest_lr_mean=np.mean(gbctest_lr, axis=1)"
   ]
  },
  {
   "cell_type": "code",
   "execution_count": 106,
   "metadata": {},
   "outputs": [
    {
     "data": {
      "text/plain": [
       "([<matplotlib.axis.XTick at 0x1a17ffe210>,\n",
       "  <matplotlib.axis.XTick at 0x1a17ff39d0>,\n",
       "  <matplotlib.axis.XTick at 0x1a17ff35d0>],\n",
       " <a list of 3 Text xticklabel objects>)"
      ]
     },
     "execution_count": 106,
     "metadata": {},
     "output_type": "execute_result"
    },
    {
     "data": {
      "image/png": "[encoded data removed]",
      "text/plain": [
       "<Figure size 432x288 with 1 Axes>"
      ]
     },
     "metadata": {
      "needs_background": "light"
     },
     "output_type": "display_data"
    }
   ],
   "source": [
    "#plot validation curve for number of trees\n",
    "plt.plot(n_estimators,gbctest_nest_mean)\n",
    "plt.xticks(n_estimators)"
   ]
  },
  {
   "cell_type": "code",
   "execution_count": 107,
   "metadata": {},
   "outputs": [
    {
     "data": {
      "text/plain": [
       "([<matplotlib.axis.XTick at 0x1a1a0e0850>,\n",
       "  <matplotlib.axis.XTick at 0x1a1a0e0310>,\n",
       "  <matplotlib.axis.XTick at 0x1a1a0cf390>,\n",
       "  <matplotlib.axis.XTick at 0x1a1a108b10>],\n",
       " <a list of 4 Text xticklabel objects>)"
      ]
     },
     "execution_count": 107,
     "metadata": {},
     "output_type": "execute_result"
    },
    {
     "data": {
      "image/png": "[encoded data removed]",
      "text/plain": [
       "<Figure size 432x288 with 1 Axes>"
      ]
     },
     "metadata": {
      "needs_background": "light"
     },
     "output_type": "display_data"
    }
   ],
   "source": [
    "#plot validation curve for smaple split\n",
    "plt.plot(min_samples_split,gbctest_ss_mean)\n",
    "plt.xticks(min_samples_split)"
   ]
  },
  {
   "cell_type": "code",
   "execution_count": 108,
   "metadata": {},
   "outputs": [
    {
     "data": {
      "text/plain": [
       "([<matplotlib.axis.XTick at 0x1a198fb090>,\n",
       "  <matplotlib.axis.XTick at 0x1a198eb1d0>,\n",
       "  <matplotlib.axis.XTick at 0x1a198c46d0>],\n",
       " <a list of 3 Text xticklabel objects>)"
      ]
     },
     "execution_count": 108,
     "metadata": {},
     "output_type": "execute_result"
    },
    {
     "data": {
      "image/png": "[encoded data removed]",
      "text/plain": [
       "<Figure size 432x288 with 1 Axes>"
      ]
     },
     "metadata": {
      "needs_background": "light"
     },
     "output_type": "display_data"
    }
   ],
   "source": [
    "#plot validation curve for sample leaf\n",
    "plt.plot(min_samples_leaf,gbctest_sl_mean)\n",
    "plt.xticks(min_samples_leaf)"
   ]
  },
  {
   "cell_type": "code",
   "execution_count": 109,
   "metadata": {},
   "outputs": [
    {
     "data": {
      "text/plain": [
       "([<matplotlib.axis.XTick at 0x1a1a03e250>,\n",
       "  <matplotlib.axis.XTick at 0x1a1a031d50>,\n",
       "  <matplotlib.axis.XTick at 0x1a1a031c10>],\n",
       " <a list of 3 Text xticklabel objects>)"
      ]
     },
     "execution_count": 109,
     "metadata": {},
     "output_type": "execute_result"
    },
    {
     "data": {
      "image/png": "[encoded data removed]",
      "text/plain": [
       "<Figure size 432x288 with 1 Axes>"
      ]
     },
     "metadata": {
      "needs_background": "light"
     },
     "output_type": "display_data"
    }
   ],
   "source": [
    "#plot validation curve for learning rate\n",
    "plt.plot(learning_rate,gbctest_lr_mean)\n",
    "plt.xticks(learning_rate)"
   ]
  },
  {
   "cell_type": "code",
   "execution_count": 22,
   "metadata": {},
   "outputs": [
    {
     "name": "stdout",
     "output_type": "stream",
     "text": [
      "Accuracy 0.978408754806\n",
      "Confusion Matrix [[6616  146]\n",
      " [   0    0]]\n"
     ]
    }
   ],
   "source": [
    "#run tuned classifier\n",
    "gbc= GradientBoostingClassifier(random_state=10, n_estimators=10, learning_rate=.05, \n",
    "                                min_samples_split=1000,min_samples_leaf=20,  )\n",
    "gbc.fit(Xtrain,ytrain)\n",
    "print('Accuracy {}'.format(accuracy_score(gbc.predict(Xtest), ytest)))\n",
    "print('Confusion Matrix {}'.format(confusion_matrix(gbc.predict(Xtest), ytest)))"
   ]
  },
  {
   "cell_type": "code",
   "execution_count": 24,
   "metadata": {},
   "outputs": [
    {
     "name": "stdout",
     "output_type": "stream",
     "text": [
      "Accuracy 0.978408754806\n",
      "Confusion Matrix [[6616  146]\n",
      " [   0    0]]\n"
     ]
    }
   ],
   "source": [
    "sdg=SGDClassifier(random_state=100)\n",
    "sdg.fit(Xtrain,ytrain)\n",
    "print('Accuracy {}'.format(accuracy_score(sdg.predict(Xtest), ytest)))\n",
    "print('Confusion Matrix {}'.format(confusion_matrix(sdg.predict(Xtest), ytest)))"
   ]
  },
  {
   "cell_type": "code",
   "execution_count": 9,
   "metadata": {},
   "outputs": [
    {
     "name": "stdout",
     "output_type": "stream",
     "text": [
      "begin\n",
      "done nest\n",
      "done ss\n",
      "done sl\n",
      "done\n"
     ]
    }
   ],
   "source": [
    "#tune gbc with validation curves\n",
    "loss= ['hinge', 'log']\n",
    "max_iter= [5,10,50, 100]\n",
    "\n",
    "n_iter_no_change=[ 5, 10, 20, 30]\n",
    "sdg=SGDClassifier(random_state=10)\n",
    "print('begin')\n",
    "sdgtrain_loss, sdgtest_loss=validation_curve(sdg, X, y, param_name='loss', \n",
    "                                   param_range=loss, scoring='accuracy', cv=5 )\n",
    "print('done loss')\n",
    "sdgtrain_mi, sdgtest_mi=validation_curve(sdg, X, y, param_name='max_iter', \n",
    "                                   param_range=max_iter, scoring='accuracy', cv=5 )\n",
    "print('done max_iter')\n",
    "sdgtrain_ninc, sdgtest_ninc=validation_curve(sdg, X, y, param_name='n_iter_no_change', \n",
    "                                   param_range=n_iter_no_change, scoring='accuracy', cv=5 )\n",
    "print('done n_iter_no_change')\n",
    "\n",
    "print('done')\n"
   ]
  },
  {
   "cell_type": "code",
   "execution_count": 10,
   "metadata": {},
   "outputs": [],
   "source": [
    "#find the means for the different scores with each parameter\n",
    "sdgtrain_loss_mean=np.mean(sdgtrain_loss, axis=1)\n",
    "sdgtrain_mi_mean=np.mean(sdgtrain_mi, axis=1)\n",
    "sdgtrain_ninc_mean=np.mean(sdgtrain_ninc, axis=1)\n",
    "\n",
    "\n",
    "sdgtest_loss_mean=np.mean(sdgtest_loss, axis=1)\n",
    "sdgtest_mi_mean=np.mean(sdgtest_mi, axis=1)\n",
    "sdgtest_ninc_mean=np.mean(sdgtest_ninc, axis=1)\n"
   ]
  },
  {
   "cell_type": "code",
   "execution_count": 37,
   "metadata": {},
   "outputs": [
    {
     "data": {
      "text/plain": [
       "([<matplotlib.axis.XTick at 0x1a25ac5310>,\n",
       "  <matplotlib.axis.XTick at 0x1a25c30dd0>],\n",
       " <a list of 2 Text xticklabel objects>)"
      ]
     },
     "execution_count": 37,
     "metadata": {},
     "output_type": "execute_result"
    },
    {
     "data": {
      "image/png": "[encoded data removed]",
      "text/plain": [
       "<Figure size 432x288 with 1 Axes>"
      ]
     },
     "metadata": {
      "needs_background": "light"
     },
     "output_type": "display_data"
    }
   ],
   "source": [
    "#plot validation curve for the loss function\n",
    "plt.plot(loss,sdgtest_loss_mean)\n",
    "plt.xticks(loss)"
   ]
  },
  {
   "cell_type": "code",
   "execution_count": 38,
   "metadata": {},
   "outputs": [
    {
     "data": {
      "text/plain": [
       "([<matplotlib.axis.XTick at 0x1a251bf590>,\n",
       "  <matplotlib.axis.XTick at 0x1a251bf090>,\n",
       "  <matplotlib.axis.XTick at 0x1a25c3ab10>,\n",
       "  <matplotlib.axis.XTick at 0x1a25b15650>],\n",
       " <a list of 4 Text xticklabel objects>)"
      ]
     },
     "execution_count": 38,
     "metadata": {},
     "output_type": "execute_result"
    },
    {
     "data": {
      "image/png": "[encoded data removed]",
      "text/plain": [
       "<Figure size 432x288 with 1 Axes>"
      ]
     },
     "metadata": {
      "needs_background": "light"
     },
     "output_type": "display_data"
    }
   ],
   "source": [
    "#plot validation curve for max_iter\n",
    "plt.plot(max_iter,sdgtest_mi_mean)\n",
    "plt.xticks(max_iter)"
   ]
  },
  {
   "cell_type": "code",
   "execution_count": 39,
   "metadata": {},
   "outputs": [
    {
     "data": {
      "text/plain": [
       "([<matplotlib.axis.XTick at 0x1a25b5b210>,\n",
       "  <matplotlib.axis.XTick at 0x1a25b55d50>,\n",
       "  <matplotlib.axis.XTick at 0x1a25b55750>,\n",
       "  <matplotlib.axis.XTick at 0x1a25d47550>],\n",
       " <a list of 4 Text xticklabel objects>)"
      ]
     },
     "execution_count": 39,
     "metadata": {},
     "output_type": "execute_result"
    },
    {
     "data": {
      "image/png": "[encoded data removed]",
      "text/plain": [
       "<Figure size 432x288 with 1 Axes>"
      ]
     },
     "metadata": {
      "needs_background": "light"
     },
     "output_type": "display_data"
    }
   ],
   "source": [
    "#plot validation curve for the loss function\n",
    "plt.plot(n_iter_no_change,sdgtest_ninc_mean)\n",
    "plt.xticks(n_iter_no_change)"
   ]
  },
  {
   "cell_type": "code",
   "execution_count": 41,
   "metadata": {},
   "outputs": [
    {
     "name": "stdout",
     "output_type": "stream",
     "text": [
      "Accuracy 0.978408754806\n",
      "Confusion Matrix [[6616  146]\n",
      " [   0    0]]\n"
     ]
    }
   ],
   "source": [
    "#run the tuned model\n",
    "sdg=SGDClassifier(random_state=100, max_iter=100, loss='log')\n",
    "sdg.fit(Xtrain,ytrain)\n",
    "print('Accuracy {}'.format(accuracy_score(sdg.predict(Xtest), ytest)))\n",
    "print('Confusion Matrix {}'.format(confusion_matrix(sdg.predict(Xtest), ytest)))"
   ]
  },
  {
   "cell_type": "code",
   "execution_count": null,
   "metadata": {},
   "outputs": [],
   "source": []
  },
  {
   "cell_type": "code",
   "execution_count": null,
   "metadata": {},
   "outputs": [],
   "source": []
  }
 ],
 "metadata": {
  "kernelspec": {
   "display_name": "Python 2",
   "language": "python",
   "name": "python2"
  },
  "language_info": {
   "codemirror_mode": {
    "name": "ipython",
    "version": 2
   },
   "file_extension": ".py",
   "mimetype": "text/x-python",
   "name": "python",
   "nbconvert_exporter": "python",
   "pygments_lexer": "ipython2",
   "version": "2.7.15"
  }
 },
 "nbformat": 4,
 "nbformat_minor": 2
}
